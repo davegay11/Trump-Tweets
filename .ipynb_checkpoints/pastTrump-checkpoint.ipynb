{
 "cells": [
  {
   "cell_type": "code",
   "execution_count": null,
   "metadata": {
    "collapsed": true
   },
   "outputs": [],
   "source": [
    "import pandas as pd\n",
    "import numpy as np\n",
    "import time\n",
    "from datetime import date"
   ]
  },
  {
   "cell_type": "code",
   "execution_count": null,
   "metadata": {
    "collapsed": true
   },
   "outputs": [],
   "source": [
    "main_path = os.path.join(os.path.dirname(__file__), '../')\n",
    "filepath = '../clean_tweets.csv'\n",
    "outputPath = '../segmented_tweets/'\n",
    "announcementDate = datetime.datetime(2015,6,15)\n",
    "electionDate = datetime.datetime(2016,11,8)\n",
    "\n",
    "#Partitions tweet data based on time separators\n",
    "#segments: number of time partitions based on the start and end index\n",
    "#dates: list of specified date separators\n",
    "def compareSelf(segments=0, dates=[announcementDate]):\n",
    "    #Reads in Trump's cleaned tweet data\n",
    "    filename = main_path + filepath\n",
    "    df = pd.read_csv(filename, header=0)\n",
    "    #converts/sorts data into a useable format\n",
    "    data = zip([__convertDate(date) for date in df['created_at']], df['clean_text'])\n",
    "    data.sort()\n",
    "    #Creates the segment indexes for the data\n",
    "    separators = []\n",
    "    minDate = min(data[0])\n",
    "    separators.append(__findSplitIndex(data[0], minDate)) \n",
    "    maxDate = max(data[0])\n",
    "    separators.append(__findSplitIndex(data[0], maxDate))\n",
    "    #loads in the specified dates\n",
    "    for date in dates:\n",
    "        separators.append(__findSplitIndex(data[0], date))\n",
    "    #loads in the time segment dates\n",
    "    if segments > 0:\n",
    "        minDate = min(data[0])\n",
    "        maxDate = max(data[0])\n",
    "        span = (maxDate - minDate).days\n",
    "        segmentWidth = span/segments\n",
    "        for i in range(segments-1):\n",
    "            timeEndSlice = minDate + datetime.timedelta(i * segmentWidth)\n",
    "            separators.append(__findSplitIndex(data[0], timeEndSlice))\n",
    "    separators.sort()\n",
    "    #Use separator indices to segment data\n",
    "    segmentedData = []\n",
    "    for index in range(len(separators)):\n",
    "        startDate = separators[index]\n",
    "        endDate = separators[index+1]\n",
    "        segment = (startDate, endDate, data[startDate:endDate])\n",
    "        segmentedDate.append(segment)\n",
    "    #Write segmented Data to different files\n",
    "    for i in range(len(segmentedData)):\n",
    "        with open(main_path + outputPath + str(i), 'w') as f:\n",
    "            for line in segmentedData:\n",
    "                f.write(line[0] + \",\" + line[1] + line[2] + ',\\n')\n",
    "            f.close()\n",
    "    return segmentedData\n",
    "\n",
    "#Converts the date from text to a datetime object\n",
    "#date: date in the csv's format\n",
    "def __convertDate(date):\n",
    "    monthText = ['Jan','Feb', 'Mar', 'Apr', 'May', 'Jun', 'Jul', 'Aug', 'Sep', 'Oct', 'Nov', 'Dec']\n",
    "    dateComponents = date.split(' ')\n",
    "    day = (int)dateComponents[2]\n",
    "    month = monthText.find(dateComponents[1]) + 1\n",
    "    year = (int) dateComponents[5]\n",
    "    return datetime.datetime(day, month, year)\n",
    "    \n",
    "    \n",
    "#finds the most recent tweet's index given a date\n",
    "#data: list of tweet datetimes\n",
    "#date: date to split on\n",
    "def __findSplitIndex(data, date):\n",
    "    dayCount = 0\n",
    "    findIndex = -1\n",
    "    #Search backwards 1 day at a time from the given start date\n",
    "    while findStatus != -1 or dayCount > 356:\n",
    "        findIndex = data.find(date - datetime.timedelta(dayCount))\n",
    "        dayCount += 1\n",
    "    return findIndex\n",
    "\n",
    "if __name__ == \"__main__\":\n",
    "    compareSelf()\n",
    "    \n",
    "    \n",
    "    \n",
    "    "
   ]
  }
 ],
 "metadata": {
  "kernelspec": {
   "display_name": "Python 2",
   "language": "python",
   "name": "python2"
  },
  "language_info": {
   "codemirror_mode": {
    "name": "ipython",
    "version": 2
   },
   "file_extension": ".py",
   "mimetype": "text/x-python",
   "name": "python",
   "nbconvert_exporter": "python",
   "pygments_lexer": "ipython2",
   "version": "2.7.13"
  }
 },
 "nbformat": 4,
 "nbformat_minor": 2
}
