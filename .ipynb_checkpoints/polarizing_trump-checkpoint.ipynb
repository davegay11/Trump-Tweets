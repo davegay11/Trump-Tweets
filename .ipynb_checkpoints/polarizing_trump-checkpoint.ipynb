{
 "cells": [
  {
   "cell_type": "code",
   "execution_count": 1,
   "metadata": {
    "collapsed": true
   },
   "outputs": [],
   "source": [
    "\"\"\"\n",
    "Exploring the positve and negative sides of trump's tweets\n",
    "\"\"\"\n",
    "\n",
    "import pandas as pd\n",
    "import os\n",
    "from PIL import Image\n",
    "import numpy as np\n",
    "from wordcloud import WordCloud"
   ]
  },
  {
   "cell_type": "code",
   "execution_count": 2,
   "metadata": {
    "collapsed": true
   },
   "outputs": [],
   "source": [
    "df = pd.read_csv(\"./data/clean_data/realdonaldtrump.csv\")"
   ]
  },
  {
   "cell_type": "code",
   "execution_count": 3,
   "metadata": {
    "collapsed": true
   },
   "outputs": [],
   "source": [
    "positive = df[df[\"compound_polarity\"] > 0.5]\n",
    "negative = df[df[\"compound_polarity\"] < -0.5]"
   ]
  },
  {
   "cell_type": "code",
   "execution_count": 4,
   "metadata": {},
   "outputs": [
    {
     "name": "stdout",
     "output_type": "stream",
     "text": [
      "10307\n",
      "3080\n"
     ]
    }
   ],
   "source": [
    "print(len(positive))\n",
    "print(len(negative))"
   ]
  },
  {
   "cell_type": "code",
   "execution_count": 5,
   "metadata": {},
   "outputs": [],
   "source": [
    "out_dir = os.path.dirname(os.path.realpath('__file__')) + \"/img/\"\n",
    "for name, frame in [(\"postive\", positive), (\"negative\", negative)]:\n",
    "    text = frame['clean_text'].str.cat(sep=' ')\n",
    "    stopwords = set([\"realdonaldtrump\"]) #ignore the twitter handle when generating\n",
    "    wordcloud = WordCloud(stopwords=stopwords).generate(text)\n",
    "    wordcloud.to_file(out_dir + 'trump_{}.png'.format(name))\n",
    "    \n",
    "    # Now let's make it in the shape of the face\n",
    "    mask = np.array(Image.open(out_dir + \"trump_outline_{}.png\".format(name)))\n",
    "    wc = WordCloud(\n",
    "#         background_color=\"white\", \n",
    "        max_words=750,\n",
    "        collocations=False,\n",
    "        mask=mask, \n",
    "        stopwords=stopwords\n",
    "    )\n",
    "    wc.generate(text)\n",
    "    wc.to_file(out_dir + \"trump_wordcloud_{}.png\".format(name))"
   ]
  },
  {
   "cell_type": "code",
   "execution_count": null,
   "metadata": {
    "collapsed": true
   },
   "outputs": [],
   "source": []
  }
 ],
 "metadata": {
  "kernelspec": {
   "display_name": "Python 2",
   "language": "python",
   "name": "python2"
  },
  "language_info": {
   "codemirror_mode": {
    "name": "ipython",
    "version": 2
   },
   "file_extension": ".py",
   "mimetype": "text/x-python",
   "name": "python",
   "nbconvert_exporter": "python",
   "pygments_lexer": "ipython2",
   "version": "2.7.13"
  }
 },
 "nbformat": 4,
 "nbformat_minor": 2
}
