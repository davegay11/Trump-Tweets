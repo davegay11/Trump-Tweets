{
 "cells": [
  {
   "cell_type": "code",
   "execution_count": 36,
   "metadata": {
    "collapsed": true
   },
   "outputs": [],
   "source": [
    "import pandas as pd\n",
    "import numpy\n",
    "import json"
   ]
  },
  {
   "cell_type": "code",
   "execution_count": 37,
   "metadata": {
    "collapsed": true
   },
   "outputs": [],
   "source": [
    "# Function for Loading the json file\n",
    "def load_json(filename):\n",
    "    \n",
    "    with open(filename) as data_file:    \n",
    "        data = json.load(data_file)\n",
    "    \n",
    "    return data "
   ]
  },
  {
   "cell_type": "raw",
   "metadata": {},
   "source": [
    "# Main Run Loop Here\n",
    "if __name__ == '__main__':\n",
    "    #pass in the username of the account you want to download\n",
    "    tweetData = load_json('trumps_tweets.json')\n",
    "    print(tweetData[1])"
   ]
  },
  {
   "cell_type": "code",
   "execution_count": 39,
   "metadata": {
    "collapsed": false
   },
   "outputs": [
    {
     "name": "stdout",
     "output_type": "stream",
     "text": [
      "1474\n"
     ]
    }
   ],
   "source": [
    "ipCount = 0\n",
    "rtCount = 0\n",
    "\n",
    "for tweet in tweetData:\n",
    "    if \"iPhone\" in tweet[\"source\"]:\n",
    "        ipCount+=1\n",
    "\n",
    "print(ipCount)\n",
    "\n"
   ]
  },
  {
   "cell_type": "code",
   "execution_count": null,
   "metadata": {
    "collapsed": true
   },
   "outputs": [],
   "source": []
  }
 ],
 "metadata": {
  "anaconda-cloud": {},
  "kernelspec": {
   "display_name": "Python [default]",
   "language": "python",
   "name": "python2"
  },
  "language_info": {
   "codemirror_mode": {
    "name": "ipython",
    "version": 2
   },
   "file_extension": ".py",
   "mimetype": "text/x-python",
   "name": "python",
   "nbconvert_exporter": "python",
   "pygments_lexer": "ipython2",
   "version": "2.7.12"
  }
 },
 "nbformat": 4,
 "nbformat_minor": 1
}
