{
 "cells": [
  {
   "cell_type": "code",
   "execution_count": null,
   "metadata": {
    "collapsed": true
   },
   "outputs": [],
   "source": [
    "#Load text and display for clarity\n",
    "trump = open(\"./data/clean_tweets.csv\", \"r\")\n",
    "clinton = open(\"./data/hillaryclinton.csv\", \"r\")"
   ]
  },
  {
   "cell_type": "code",
   "execution_count": null,
   "metadata": {
    "collapsed": true
   },
   "outputs": [],
   "source": [
    "targetLetter = \"!\"\n",
    "\n",
    "count = 0;\n",
    "\n",
    "for line in file.readlines():\n",
    "    words = line.split();\n",
    "    for word in words:\n",
    "        for letter in word:\n",
    "            if letter == targetLetter:\n",
    "                count += 1\n",
    "print count"
   ]
  }
 ],
 "metadata": {
  "kernelspec": {
   "display_name": "Python 2",
   "language": "python",
   "name": "python2"
  },
  "language_info": {
   "codemirror_mode": {
    "name": "ipython",
    "version": 2
   },
   "file_extension": ".py",
   "mimetype": "text/x-python",
   "name": "python",
   "nbconvert_exporter": "python",
   "pygments_lexer": "ipython2",
   "version": "2.7.6"
  }
 },
 "nbformat": 4,
 "nbformat_minor": 2
}
