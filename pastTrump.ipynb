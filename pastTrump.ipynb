{
 "cells": [
  {
   "cell_type": "code",
   "execution_count": 2,
   "metadata": {
    "collapsed": true
   },
   "outputs": [],
   "source": [
    "import pandas as pd\n",
    "import numpy as np\n",
    "import os\n",
    "import time\n",
    "import datetime"
   ]
  },
  {
   "cell_type": "code",
   "execution_count": 8,
   "metadata": {
    "collapsed": false
   },
   "outputs": [
    {
     "name": "stdout",
     "output_type": "stream",
     "text": [
      "2864\n",
      "286\n",
      "2010-02-14 00:00:00\n",
      "2010-11-27 00:00:00\n",
      "2011-09-09 00:00:00\n",
      "2012-06-21 00:00:00\n",
      "2013-04-03 00:00:00\n",
      "2014-01-14 00:00:00\n",
      "2014-10-27 00:00:00\n",
      "2015-08-09 00:00:00\n",
      "2016-05-21 00:00:00\n",
      "[0, 48, 169, 444, 1919, 6130, 11130, 14787, 20228, 24451, 26737]\n"
     ]
    }
   ],
   "source": [
    "\n",
    "#main_path = os.path.join(os.path.dirname(__file__), '../')\n",
    "main_path = os.path.join(os.path.dirname('pastTrump.ipynb'), '../')\n",
    "filepath = 'clean_tweets.csv'\n",
    "outputPath = 'segmented_tweets/'\n",
    "announcementDate = datetime.datetime(2015,6,15)\n",
    "electionDate = datetime.datetime(2016,11,8)\n",
    "\n",
    "#Partitions tweet data based on time separators\n",
    "#segments: number of time partitions based on the start and end index\n",
    "#dates: list of specified date separators\n",
    "def compareSelf(segments=0, dates=[announcementDate]):\n",
    "    #Reads in Trump's cleaned tweet data\n",
    "    filename = main_path + filepath\n",
    "    df = pd.read_csv(filename, header=0)\n",
    "    #converts/sorts data into a useable format\n",
    "    data = zip([__convertDate(date) for date in df['created_at']], df['clean_text'])\n",
    "    data.sort()\n",
    "    dateTime = [d[0] for d in data]\n",
    "    #Creates the segment indexes for the data\n",
    "    separators = []\n",
    "    minDate = min(dateTime)\n",
    "    separators.append(__findSplitIndex(dateTime, minDate)) \n",
    "    maxDate = max(dateTime)\n",
    "    separators.append(__findSplitIndex(dateTime, maxDate))\n",
    "    #loads in the specified dates\n",
    "    for date in dates:\n",
    "        separators.append(__findSplitIndex(dateTime, date))\n",
    "    #loads in the time segment dates\n",
    "    if segments > 0:\n",
    "        span = (maxDate - minDate).days\n",
    "        print span\n",
    "        segmentWidth = span/segments\n",
    "        print segmentWidth\n",
    "        for i in range(1, segments):\n",
    "            timeEndSlice = minDate + datetime.timedelta(i * segmentWidth)\n",
    "            print timeEndSlice\n",
    "            separators.append(__findSplitIndex(dateTime, timeEndSlice))\n",
    "    separators.sort()\n",
    "    print separators\n",
    "    #Use separator indices to segment data\n",
    "    segmentedData = []\n",
    "    for index in range(len(separators)-1):\n",
    "        startDate = separators[index]\n",
    "        endDate = separators[index+1]\n",
    "        segment = (startDate, endDate, data[startDate:endDate])\n",
    "        segmentedData.append(segment)\n",
    "    #Write segmented Data to different files\n",
    "#     for x in segmentedData:\n",
    "#         print x[:20]\n",
    "    #print segmentedData[:5] #[( , , [(), ()]),]\n",
    "    for i in range(len(segmentedData)):\n",
    "        with open(main_path + outputPath + str(i) + \"_timeSlice\", 'w') as f:\n",
    "            f.write(\"date,clean_text,\\n\")\n",
    "            for line in segmentedData[i][2]:\n",
    "                f.write(str(line[0]) + \",\" + str(line[1]) + ',\\n')\n",
    "            f.close()\n",
    "    return segmentedData\n",
    "\n",
    "#Converts the date from text to a datetime object\n",
    "#date: date in the csv's format\n",
    "def __convertDate(date):\n",
    "    monthText = ['Jan','Feb', 'Mar', 'Apr', 'May', 'Jun', 'Jul', 'Aug', 'Sep', 'Oct', 'Nov', 'Dec']\n",
    "    dateComponents = date.split(' ')\n",
    "    day = int(dateComponents[2])\n",
    "    month = monthText.index(dateComponents[1]) + 1\n",
    "    year = int(dateComponents[5])\n",
    "    return datetime.datetime(year, month, day)\n",
    "    \n",
    "    \n",
    "#finds the most recent tweet's index given a date\n",
    "#data: list of tweet datetimes\n",
    "#date: date to split on\n",
    "def __findSplitIndex(data, date):\n",
    "    dayCount = 0\n",
    "    findIndex = -1\n",
    "    #Search backwards 1 day at a time from the given start date\n",
    "    while findIndex == -1 and dayCount < 356:\n",
    "        end = date - datetime.timedelta(dayCount)\n",
    "        if end in data:\n",
    "            findIndex = data.index(end)\n",
    "        dayCount += 1\n",
    "    return findIndex\n",
    "\n",
    "if __name__ == \"__main__\":\n",
    "    compareSelf()\n",
    "    #compareSelf(10, [])\n",
    "    \n",
    "    \n",
    "    \n",
    "    "
   ]
  },
  {
   "cell_type": "code",
   "execution_count": null,
   "metadata": {
    "collapsed": true
   },
   "outputs": [],
   "source": []
  }
 ],
 "metadata": {
  "kernelspec": {
   "display_name": "Python 2",
   "language": "python",
   "name": "python2"
  },
  "language_info": {
   "codemirror_mode": {
    "name": "ipython",
    "version": 2
   },
   "file_extension": ".py",
   "mimetype": "text/x-python",
   "name": "python",
   "nbconvert_exporter": "python",
   "pygments_lexer": "ipython2",
   "version": "2.7.13"
  }
 },
 "nbformat": 4,
 "nbformat_minor": 2
}
