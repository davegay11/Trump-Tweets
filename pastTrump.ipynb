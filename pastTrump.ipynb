{
 "cells": [
  {
   "cell_type": "code",
   "execution_count": null,
   "metadata": {
    "collapsed": true
   },
   "outputs": [],
   "source": [
    "import pandas as pd\n",
    "import numpy as np\n",
    "import time\n",
    "from datetime import date"
   ]
  },
  {
   "cell_type": "code",
   "execution_count": null,
   "metadata": {
    "collapsed": true
   },
   "outputs": [],
   "source": [
    "main_path = os.path.join(os.path.dirname(__file__), '../')\n",
    "announcementDate = datetime.datetime(2015,6,15)\n",
    "electionDate = datetime.datetime(2016,11,8)\n",
    "\n",
    "def compareSelf():\n",
    "    #Reads in Trump's cleaned tweet data\n",
    "    filename = main_path + 'data/clean_data/clean_tweets.csv'\n",
    "    df = pd.read_csv(filename, header=0)\n",
    "    data = zip([convertDate(date) for date in df['post_date']], df['clean_text'])\n",
    "    sort(data)\n",
    "    announcmentDateIndex = findSplitIndex(data[0], announcementDate)\n",
    "    electionDateIndex = findSplitIndex(data[0], electionDate)\n",
    "\n",
    "def findSplitIndex(data, date):\n",
    "    while date < 50\n",
    "    \n",
    "    \n",
    "    \n",
    "    "
   ]
  }
 ],
 "metadata": {
  "kernelspec": {
   "display_name": "Python 2",
   "language": "python",
   "name": "python2"
  },
  "language_info": {
   "codemirror_mode": {
    "name": "ipython",
    "version": 2
   },
   "file_extension": ".py",
   "mimetype": "text/x-python",
   "name": "python",
   "nbconvert_exporter": "python",
   "pygments_lexer": "ipython2",
   "version": "2.7.13"
  }
 },
 "nbformat": 4,
 "nbformat_minor": 2
}
