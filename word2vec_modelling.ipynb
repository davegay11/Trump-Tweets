{
 "cells": [
  {
   "cell_type": "code",
   "execution_count": 1,
   "metadata": {
    "collapsed": true
   },
   "outputs": [],
   "source": [
    "from gensim.models import word2vec"
   ]
  },
  {
   "cell_type": "code",
   "execution_count": 93,
   "metadata": {
    "collapsed": false
   },
   "outputs": [],
   "source": [
    "def get_model(name, handle):\n",
    "    return (name, word2vec.Word2Vec.load(\"./models/word2vec/{}.bin\".format(handle)))\n",
    "\n",
    "hillary = get_model(\"hillary\", \"hillaryclinton\")\n",
    "donald = get_model(\"donald\", \"realdonaldtrump\")\n",
    "ryan = get_model(\"paul ryan\", \"speakerryan\")\n",
    "mccain = get_model(\"mccain\", \"senjohnmccain\")"
   ]
  },
  {
   "cell_type": "code",
   "execution_count": 94,
   "metadata": {
    "collapsed": false
   },
   "outputs": [],
   "source": [
    "# Cool! Now the model is trained...let's have some fun\n",
    "def compare_similar(word, *args):\n",
    "    \"\"\" We compare the tweet corpora to do some exploratory data analysis. Obviously\n",
    "    the choice of keyword is chosen by a human and so might not reflect the most \n",
    "    interesting aspects of the data, but it's the best we can do for now.\n",
    "    \"\"\"\n",
    "    print(\"Keyword: {}\\n{}\".format(word, \"-\"*70))\n",
    "    for name, model in args:\n",
    "        try:\n",
    "            print(\"{}: {}\".format(name, [x[0] for x in model.most_similar(word)][:5]))\n",
    "        except KeyError:\n",
    "            print(\"{}: not in vocab\".format(name))"
   ]
  },
  {
   "cell_type": "code",
   "execution_count": 95,
   "metadata": {
    "collapsed": false
   },
   "outputs": [
    {
     "name": "stdout",
     "output_type": "stream",
     "text": [
      "Keyword: hillary\n",
      "----------------------------------------------------------------------\n",
      "hillary: ['@billclinton', '@hillaryclinton', 'iowa', '#hillary', 'text']\n",
      "donald: ['obama', 'china', 'iraqis', 'must', 'jobs']\n",
      "paul ryan: ['secretary', 'clinton', 'long', 'full', '@potus']\n",
      "mccain: ['say', 'right', 'un', 'gop', 'calls']\n"
     ]
    }
   ],
   "source": [
    "compare_similar(\"hillary\", hillary, donald, ryan, mccain)"
   ]
  },
  {
   "cell_type": "code",
   "execution_count": 96,
   "metadata": {
    "collapsed": false
   },
   "outputs": [
    {
     "name": "stdout",
     "output_type": "stream",
     "text": [
      "Keyword: trump\n",
      "----------------------------------------------------------------------\n",
      "hillary: ['@thebriefing', '@timkaine', 'plan', 'tax', 'pence']\n",
      "donald: ['via', '@newsmax', '@scotsmandotcom', '@youtube', 'donald']\n",
      "paul ryan: ['elect', 'honor', '@uscapitol', 'meeting', 'w']\n",
      "mccain: ['fire', 'still', 'calls', 'allies', 'little']\n"
     ]
    }
   ],
   "source": [
    "compare_similar(\"trump\", hillary, donald, ryan, mccain)"
   ]
  },
  {
   "cell_type": "code",
   "execution_count": 97,
   "metadata": {
    "collapsed": false
   },
   "outputs": [
    {
     "name": "stdout",
     "output_type": "stream",
     "text": [
      "Keyword: isis\n",
      "----------------------------------------------------------------------\n",
      "hillary: ['@hillaryclinton', 'u', 'obama', 'war', 'speech']\n",
      "donald: ['crooked', 'trade', 'oil', 'disaster', 'warming']\n",
      "paul ryan: ['#isis', 'strategy', 'u', 'rights', 'continue']\n",
      "mccain: ['peace', 'stop', 'allies', 'would', 'used']\n"
     ]
    }
   ],
   "source": [
    "compare_similar(\"isis\", hillary, donald, ryan, mccain)"
   ]
  },
  {
   "cell_type": "code",
   "execution_count": 98,
   "metadata": {
    "collapsed": false
   },
   "outputs": [
    {
     "name": "stdout",
     "output_type": "stream",
     "text": [
      "Keyword: jobs\n",
      "----------------------------------------------------------------------\n",
      "hillary: ['see', 'big', 'put', 'strong', '@realdonaldtrump']\n",
      "donald: ['stop', 'must', 'clinton', 'iran', '@barackobama']\n",
      "paul ryan: ['economy', 'grow', 'businesses', 'simple', 'create']\n",
      "mccain: ['federal', 'rule', 'mine', 'k', 'senators']\n"
     ]
    }
   ],
   "source": [
    "compare_similar(\"jobs\", hillary, donald, ryan, mccain)"
   ]
  },
  {
   "cell_type": "code",
   "execution_count": 99,
   "metadata": {
    "collapsed": false
   },
   "outputs": [
    {
     "name": "stdout",
     "output_type": "stream",
     "text": [
      "Keyword: women\n",
      "----------------------------------------------------------------------\n",
      "hillary: ['equal', 'lgbt', 'voting', 'deserve', 'pay']\n",
      "donald: ['bird', '@aberdeenshire', 'farms', 'street', 'delayed']\n",
      "paul ryan: ['support', 'continue', 'freedom', 'important', 'gov']\n",
      "mccain: ['cost', 'b', 'ppl', 'lives', 'pow']\n"
     ]
    }
   ],
   "source": [
    "compare_similar(\"women\", hillary, donald, ryan, mccain)"
   ]
  },
  {
   "cell_type": "code",
   "execution_count": 100,
   "metadata": {
    "collapsed": false
   },
   "outputs": [
    {
     "name": "stdout",
     "output_type": "stream",
     "text": [
      "Keyword: mexican\n",
      "----------------------------------------------------------------------\n",
      "hillary: ['community', '@hillaryclinton', 'long', 'ideas', 'story']\n",
      "donald: ['brought', 'terrorists', 'pathetic', 'sending', 'paper']\n",
      "paul ryan: not in vocab\n",
      "mccain: ['south', 'bad', 'left', 'paul', 'end']\n"
     ]
    }
   ],
   "source": [
    "compare_similar(\"mexican\", hillary, donald, ryan, mccain)"
   ]
  },
  {
   "cell_type": "code",
   "execution_count": 101,
   "metadata": {
    "collapsed": false
   },
   "outputs": [
    {
     "name": "stdout",
     "output_type": "stream",
     "text": [
      "Keyword: china\n",
      "----------------------------------------------------------------------\n",
      "hillary: ['follow', 'isis', 'must', 'behind', 'racism']\n",
      "donald: ['obama', 'hillary', 'iraqis', 'must', 'jobs']\n",
      "paul ryan: ['go', 'hope', 'gov', 'thank', 'nation']\n",
      "mccain: ['democracy', 'congress', 'right', '@ap', 'un']\n"
     ]
    }
   ],
   "source": [
    "compare_similar(\"china\", hillary, donald, ryan, mccain)"
   ]
  },
  {
   "cell_type": "code",
   "execution_count": 102,
   "metadata": {
    "collapsed": false
   },
   "outputs": [
    {
     "name": "stdout",
     "output_type": "stream",
     "text": [
      "Keyword: iraq\n",
      "----------------------------------------------------------------------\n",
      "hillary: ['community', 'story', '@realdonaldtrump', 'voters', '@hillaryclinton']\n",
      "donald: ['obamacare', 'trade', 'oil', 'isis', 'even']\n",
      "paul ryan: not in vocab\n",
      "mccain: ['syria', 'assad', 'islamic', 'chemical', '@nytimes']\n"
     ]
    }
   ],
   "source": [
    "compare_similar(\"iraq\", hillary, donald, ryan, mccain)"
   ]
  },
  {
   "cell_type": "code",
   "execution_count": 103,
   "metadata": {
    "collapsed": false
   },
   "outputs": [
    {
     "name": "stdout",
     "output_type": "stream",
     "text": [
      "Keyword: syria\n",
      "----------------------------------------------------------------------\n",
      "hillary: not in vocab\n",
      "donald: ['government', 'stupidly', 'pay', 'worker', 'leaders']\n",
      "paul ryan: ['regulations', 'strategy', 'nearly', 'stop', '#gitmo']\n",
      "mccain: ['assad', 'chemical', 'salter', 'iraq', 'weapons']\n"
     ]
    }
   ],
   "source": [
    "compare_similar(\"syria\", hillary, donald, ryan, mccain)"
   ]
  },
  {
   "cell_type": "code",
   "execution_count": 104,
   "metadata": {
    "collapsed": false
   },
   "outputs": [
    {
     "name": "stdout",
     "output_type": "stream",
     "text": [
      "Keyword: bad\n",
      "----------------------------------------------------------------------\n",
      "hillary: ['lot', '@realdonaldtrump', 'lives', 'put', 'think']\n",
      "donald: ['many', 'money', 'concentrated', 'iraq', 'mommy']\n",
      "paul ryan: ['support', 'gov', 'states', 'continue', 'u']\n",
      "mccain: ['south', 'americans', 'billion', 'set', 'paul']\n"
     ]
    }
   ],
   "source": [
    "compare_similar(\"bad\", hillary, donald, ryan, mccain)"
   ]
  },
  {
   "cell_type": "code",
   "execution_count": 105,
   "metadata": {
    "collapsed": false
   },
   "outputs": [
    {
     "name": "stdout",
     "output_type": "stream",
     "text": [
      "Keyword: terrorist\n",
      "----------------------------------------------------------------------\n",
      "hillary: ['also', 'justice', 'dangerous', 'put', 'gets']\n",
      "donald: ['lies', 'dollar', 'sending', 'radical', 'middle']\n",
      "paul ryan: ['video', 'support', 'u', 'thanks', 'gov']\n",
      "mccain: ['investigation', 'bring', 'call', 'court', 'earmarks']\n"
     ]
    }
   ],
   "source": [
    "compare_similar(\"terrorist\", hillary, donald, ryan, mccain)"
   ]
  },
  {
   "cell_type": "code",
   "execution_count": null,
   "metadata": {
    "collapsed": true
   },
   "outputs": [],
   "source": []
  }
 ],
 "metadata": {
  "kernelspec": {
   "display_name": "Python 2",
   "language": "python",
   "name": "python2"
  },
  "language_info": {
   "codemirror_mode": {
    "name": "ipython",
    "version": 2
   },
   "file_extension": ".py",
   "mimetype": "text/x-python",
   "name": "python",
   "nbconvert_exporter": "python",
   "pygments_lexer": "ipython2",
   "version": "2.7.13"
  }
 },
 "nbformat": 4,
 "nbformat_minor": 2
}
